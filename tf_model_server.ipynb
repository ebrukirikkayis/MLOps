{
  "nbformat": 4,
  "nbformat_minor": 0,
  "metadata": {
    "colab": {
      "provenance": []
    },
    "kernelspec": {
      "name": "python3",
      "display_name": "Python 3"
    },
    "language_info": {
      "name": "python"
    }
  },
  "cells": [
    {
      "cell_type": "markdown",
      "source": [
        "## Serve a model with TensorFlow Serving\n",
        "\n"
      ],
      "metadata": {
        "id": "QGj4Gw7ddaba"
      }
    },
    {
      "cell_type": "code",
      "execution_count": 1,
      "metadata": {
        "id": "zbLmoTa6dXe7"
      },
      "outputs": [],
      "source": [
        "import os\n",
        "import zipfile\n",
        "import subprocess\n",
        "import numpy as np\n",
        "import matplotlib.pyplot as plt\n",
        "import pandas as pd\n",
        "import tensorflow as tf\n",
        "from IPython.display import Image, display\n",
        "import tempfile\n",
        "import json\n",
        "import requests"
      ]
    },
    {
      "cell_type": "markdown",
      "source": [
        "#### Load Data"
      ],
      "metadata": {
        "id": "eTjyygysjDQA"
      }
    },
    {
      "cell_type": "code",
      "source": [
        "mnist= tf.keras.datasets.mnist"
      ],
      "metadata": {
        "id": "m95vVMHofAqq"
      },
      "execution_count": 2,
      "outputs": []
    },
    {
      "cell_type": "code",
      "source": [
        "(x_train, y_train), (x_test, y_test)= mnist.load_data()"
      ],
      "metadata": {
        "id": "HfI18FCufKAn",
        "colab": {
          "base_uri": "https://localhost:8080/"
        },
        "outputId": "8cabfe3a-7bec-4b58-a1b4-e0dff3614a7d"
      },
      "execution_count": 3,
      "outputs": [
        {
          "output_type": "stream",
          "name": "stdout",
          "text": [
            "Downloading data from https://storage.googleapis.com/tensorflow/tf-keras-datasets/mnist.npz\n",
            "11490434/11490434 [==============================] - 0s 0us/step\n"
          ]
        }
      ]
    },
    {
      "cell_type": "markdown",
      "source": [
        "#### Normalization"
      ],
      "metadata": {
        "id": "zkAYFJ04oYRK"
      }
    },
    {
      "cell_type": "code",
      "source": [
        "x_train= x_train/255.0\n",
        "x_test= x_test/255.0"
      ],
      "metadata": {
        "id": "1CSg2zecfVf5"
      },
      "execution_count": 4,
      "outputs": []
    },
    {
      "cell_type": "markdown",
      "source": [
        "#### Add a channel information"
      ],
      "metadata": {
        "id": "u0tIeh2KoiaU"
      }
    },
    {
      "cell_type": "code",
      "source": [
        "x_train= x_train.reshape(x_train.shape[0],28,28,1)\n",
        "x_test= x_test.reshape(x_test.shape[0],28,28,1)"
      ],
      "metadata": {
        "id": "ZWscH11pfbnN"
      },
      "execution_count": 5,
      "outputs": []
    },
    {
      "cell_type": "code",
      "source": [
        "print('\\n x_train.shape: {}, of {}'.format(x_train.shape, x_train.dtype))\n",
        "print('\\n x_test.shape: {}, of {}'.format(x_test.shape, x_test.dtype))"
      ],
      "metadata": {
        "colab": {
          "base_uri": "https://localhost:8080/"
        },
        "id": "lkpBR85ffte6",
        "outputId": "159815fe-53cc-473e-b8d2-4bed046095de"
      },
      "execution_count": 6,
      "outputs": [
        {
          "output_type": "stream",
          "name": "stdout",
          "text": [
            "\n",
            " x_train.shape: (60000, 28, 28, 1), of float64\n",
            "\n",
            " x_test.shape: (10000, 28, 28, 1), of float64\n"
          ]
        }
      ]
    },
    {
      "cell_type": "markdown",
      "source": [
        "#### Take a look to data"
      ],
      "metadata": {
        "id": "PkbsihoQoxdF"
      }
    },
    {
      "cell_type": "code",
      "source": [
        "idx= 32\n",
        "plt.imshow(x_test[idx].reshape(28,28), cmap=plt.cm.binary)\n",
        "plt.title('True label: {}'.format(y_test[idx]), fontdict={'size':16})\n",
        "plt.show()"
      ],
      "metadata": {
        "colab": {
          "base_uri": "https://localhost:8080/",
          "height": 454
        },
        "id": "GVELcknlgGH7",
        "outputId": "7bbc7907-1901-49aa-943d-cbb237b14311"
      },
      "execution_count": 7,
      "outputs": [
        {
          "output_type": "display_data",
          "data": {
            "text/plain": [
              "<Figure size 640x480 with 1 Axes>"
            ],
            "image/png": "[encoded data removed]"
          },
          "metadata": {}
        }
      ]
    },
    {
      "cell_type": "markdown",
      "source": [
        "#### Create Model"
      ],
      "metadata": {
        "id": "JSemLrRRo4BX"
      }
    },
    {
      "cell_type": "code",
      "source": [
        "model= tf.keras.Sequential([\n",
        "    tf.keras.layers.Conv2D(input_shape=(28,28,1), filters=8, kernel_size=3,\n",
        "                           strides=2, activation='relu', name='Conv1'),\n",
        "    tf.keras.layers.Flatten(),\n",
        "    tf.keras.layers.Dense(10, activation= tf.nn.softmax, name='Softmax')\n",
        "])\n",
        "model.summary()"
      ],
      "metadata": {
        "colab": {
          "base_uri": "https://localhost:8080/"
        },
        "id": "VYeWrK5Rfwjo",
        "outputId": "afa2a3d3-f942-4da2-93c0-1e7727c161ca"
      },
      "execution_count": 8,
      "outputs": [
        {
          "output_type": "stream",
          "name": "stdout",
          "text": [
            "Model: \"sequential\"\n",
            "_________________________________________________________________\n",
            " Layer (type)                Output Shape              Param #   \n",
            "=================================================================\n",
            " Conv1 (Conv2D)              (None, 13, 13, 8)         80        \n",
            "                                                                 \n",
            " flatten (Flatten)           (None, 1352)              0         \n",
            "                                                                 \n",
            " Softmax (Dense)             (None, 10)                13530     \n",
            "                                                                 \n",
            "=================================================================\n",
            "Total params: 13610 (53.16 KB)\n",
            "Trainable params: 13610 (53.16 KB)\n",
            "Non-trainable params: 0 (0.00 Byte)\n",
            "_________________________________________________________________\n"
          ]
        }
      ]
    },
    {
      "cell_type": "markdown",
      "source": [
        "#### Compile the model"
      ],
      "metadata": {
        "id": "C_d9nZYBo8hU"
      }
    },
    {
      "cell_type": "code",
      "source": [
        "model.compile(optimizer='adam',\n",
        "              loss='sparse_categorical_crossentropy',\n",
        "              metrics=['accuracy'])\n",
        "\n",
        "epochs=5\n",
        "\n",
        "history= model.fit(x_train, y_train, epochs= epochs)"
      ],
      "metadata": {
        "colab": {
          "base_uri": "https://localhost:8080/"
        },
        "id": "YuXgLIBchQcu",
        "outputId": "7bfd47e1-8cb6-4434-f0d0-b49f63132401"
      },
      "execution_count": 9,
      "outputs": [
        {
          "output_type": "stream",
          "name": "stdout",
          "text": [
            "Epoch 1/5\n",
            "1875/1875 [==============================] - 9s 4ms/step - loss: 0.3770 - accuracy: 0.8950\n",
            "Epoch 2/5\n",
            "1875/1875 [==============================] - 6s 3ms/step - loss: 0.2269 - accuracy: 0.9364\n",
            "Epoch 3/5\n",
            "1875/1875 [==============================] - 4s 2ms/step - loss: 0.1769 - accuracy: 0.9502\n",
            "Epoch 4/5\n",
            "1875/1875 [==============================] - 4s 2ms/step - loss: 0.1490 - accuracy: 0.9574\n",
            "Epoch 5/5\n",
            "1875/1875 [==============================] - 4s 2ms/step - loss: 0.1266 - accuracy: 0.9639\n"
          ]
        }
      ]
    },
    {
      "cell_type": "markdown",
      "source": [
        "#### Evaluation"
      ],
      "metadata": {
        "id": "4ALQm4Buo_4T"
      }
    },
    {
      "cell_type": "code",
      "source": [
        "results_eval= model.evaluate(x_test, y_test, verbose=0)\n",
        "\n",
        "for metric, value in zip(model.metrics_names, results_eval):\n",
        "  print(metric + ':{:.3}'.format(value))"
      ],
      "metadata": {
        "id": "N02PJI7ZiBly",
        "colab": {
          "base_uri": "https://localhost:8080/"
        },
        "outputId": "30e788fb-f99f-4452-9b67-70876fd496de"
      },
      "execution_count": 10,
      "outputs": [
        {
          "output_type": "stream",
          "name": "stdout",
          "text": [
            "loss:0.12\n",
            "accuracy:0.963\n"
          ]
        }
      ]
    },
    {
      "cell_type": "markdown",
      "source": [
        "#### Save the model to use tensorflow model serving on it"
      ],
      "metadata": {
        "id": "KPIXQSiQpDA4"
      }
    },
    {
      "cell_type": "code",
      "source": [
        "MODEL_DIR= tempfile.gettempdir()\n",
        "version=1\n",
        "export_path= os.path.join(MODEL_DIR, str(version))\n",
        "\n",
        "if os.path.isdir(export_path):\n",
        "  !rm -r {export_path}\n",
        "\n",
        "tf.keras.models.save_model(\n",
        "    model,\n",
        "    export_path,\n",
        "    overwrite=True,\n",
        "    include_optimizer=True,\n",
        "    save_format=None,\n",
        "    signatures=None,\n",
        "    options=None\n",
        ")"
      ],
      "metadata": {
        "id": "3b8giGKgibCE"
      },
      "execution_count": 11,
      "outputs": []
    },
    {
      "cell_type": "code",
      "source": [
        "print(f'\\nFiles of model saved in {export_path }:\\n')\n",
        "!ls -lh {export_path}"
      ],
      "metadata": {
        "colab": {
          "base_uri": "https://localhost:8080/"
        },
        "id": "oE7e2LVgaPnp",
        "outputId": "621c3e1b-5c14-4f74-dce1-b503be862e09"
      },
      "execution_count": 12,
      "outputs": [
        {
          "output_type": "stream",
          "name": "stdout",
          "text": [
            "\n",
            "Files of model saved in /tmp/1:\n",
            "\n",
            "total 100K\n",
            "drwxr-xr-x 2 root root 4.0K Dec 20 19:52 assets\n",
            "-rw-r--r-- 1 root root   57 Dec 20 19:52 fingerprint.pb\n",
            "-rw-r--r-- 1 root root 8.5K Dec 20 19:52 keras_metadata.pb\n",
            "-rw-r--r-- 1 root root  75K Dec 20 19:52 saved_model.pb\n",
            "drwxr-xr-x 2 root root 4.0K Dec 20 19:52 variables\n"
          ]
        }
      ]
    },
    {
      "cell_type": "code",
      "source": [
        "!saved_model_cli show --dir {export_path} --tag_set serve --signature_def serving_default"
      ],
      "metadata": {
        "colab": {
          "base_uri": "https://localhost:8080/"
        },
        "id": "UJFKuck3aUxw",
        "outputId": "b7d2682f-6d41-491b-9490-25731b40c8c5"
      },
      "execution_count": 13,
      "outputs": [
        {
          "output_type": "stream",
          "name": "stdout",
          "text": [
            "2023-12-20 19:52:30.682904: E external/local_xla/xla/stream_executor/cuda/cuda_dnn.cc:9261] Unable to register cuDNN factory: Attempting to register factory for plugin cuDNN when one has already been registered\n",
            "2023-12-20 19:52:30.682944: E external/local_xla/xla/stream_executor/cuda/cuda_fft.cc:607] Unable to register cuFFT factory: Attempting to register factory for plugin cuFFT when one has already been registered\n",
            "2023-12-20 19:52:30.683960: E external/local_xla/xla/stream_executor/cuda/cuda_blas.cc:1515] Unable to register cuBLAS factory: Attempting to register factory for plugin cuBLAS when one has already been registered\n",
            "2023-12-20 19:52:31.742602: W tensorflow/compiler/tf2tensorrt/utils/py_utils.cc:38] TF-TRT Warning: Could not find TensorRT\n",
            "The given SavedModel SignatureDef contains the following input(s):\n",
            "  inputs['Conv1_input'] tensor_info:\n",
            "      dtype: DT_FLOAT\n",
            "      shape: (-1, 28, 28, 1)\n",
            "      name: serving_default_Conv1_input:0\n",
            "The given SavedModel SignatureDef contains the following output(s):\n",
            "  outputs['Softmax'] tensor_info:\n",
            "      dtype: DT_FLOAT\n",
            "      shape: (-1, 10)\n",
            "      name: StatefulPartitionedCall:0\n",
            "Method name is: tensorflow/serving/predict\n"
          ]
        }
      ]
    },
    {
      "cell_type": "markdown",
      "source": [
        "#### Serve the model\n",
        "##### Load tensorflow-model-server"
      ],
      "metadata": {
        "id": "1SSEuxRopRro"
      }
    },
    {
      "cell_type": "code",
      "source": [
        "!wget 'http://storage.googleapis.com/tensorflow-serving-apt/pool/tensorflow-model-server-universal-2.8.0/t/tensorflow-model-server-universal/tensorflow-model-server-universal_2.8.0_all.deb'\n",
        "!dpkg -i tensorflow-model-server-universal_2.8.0_all.deb"
      ],
      "metadata": {
        "id": "H6jabgZ7kw63",
        "colab": {
          "base_uri": "https://localhost:8080/"
        },
        "outputId": "0653e186-6697-4ef6-f898-4148309aac88"
      },
      "execution_count": 14,
      "outputs": [
        {
          "output_type": "stream",
          "name": "stdout",
          "text": [
            "--2023-12-20 19:52:33--  http://storage.googleapis.com/tensorflow-serving-apt/pool/tensorflow-model-server-universal-2.8.0/t/tensorflow-model-server-universal/tensorflow-model-server-universal_2.8.0_all.deb\n",
            "Resolving storage.googleapis.com (storage.googleapis.com)... 142.251.2.207, 2607:f8b0:4023:c03::cf, 2607:f8b0:4023:c0b::cf, ...\n",
            "Connecting to storage.googleapis.com (storage.googleapis.com)|142.251.2.207|:80... connected.\n",
            "HTTP request sent, awaiting response... 200 OK\n",
            "Length: 335421916 (320M) [application/x-debian-package]\n",
            "Saving to: ‘tensorflow-model-server-universal_2.8.0_all.deb’\n",
            "\n",
            "tensorflow-model-se 100%[===================>] 319.88M  55.6MB/s    in 6.4s    \n",
            "\n",
            "2023-12-20 19:52:40 (50.3 MB/s) - ‘tensorflow-model-server-universal_2.8.0_all.deb’ saved [335421916/335421916]\n",
            "\n",
            "Selecting previously unselected package tensorflow-model-server-universal.\n",
            "(Reading database ... 121658 files and directories currently installed.)\n",
            "Preparing to unpack tensorflow-model-server-universal_2.8.0_all.deb ...\n",
            "Unpacking tensorflow-model-server-universal (2.8.0) ...\n",
            "Setting up tensorflow-model-server-universal (2.8.0) ...\n"
          ]
        }
      ]
    },
    {
      "cell_type": "markdown",
      "source": [
        "##### Configure the server"
      ],
      "metadata": {
        "id": "0_tNMj7qpybW"
      }
    },
    {
      "cell_type": "code",
      "source": [
        "os.environ[\"MODEL_DIR\"] = MODEL_DIR"
      ],
      "metadata": {
        "id": "GGx7GFJGllD-"
      },
      "execution_count": 15,
      "outputs": []
    },
    {
      "cell_type": "code",
      "source": [
        "%%bash --bg\n",
        "nohup tensorflow_model_server \\\n",
        "  --rest_api_port=8501 \\\n",
        "  --model_name=mnist_model \\\n",
        "  --model_base_path=\"${MODEL_DIR}\" >server.log 2>&1"
      ],
      "metadata": {
        "id": "MphqcdW5iAAY"
      },
      "execution_count": 16,
      "outputs": []
    },
    {
      "cell_type": "code",
      "source": [
        "!tail server.log"
      ],
      "metadata": {
        "id": "I5HtXApllnKT"
      },
      "execution_count": 17,
      "outputs": []
    },
    {
      "cell_type": "markdown",
      "source": [
        "##### Make requests to the model with json"
      ],
      "metadata": {
        "id": "bxjJz87luibQ"
      }
    },
    {
      "cell_type": "code",
      "source": [
        "test_imgs_list = x_test.tolist()\n",
        "data= json.dumps({\"instances\":test_imgs_list})"
      ],
      "metadata": {
        "id": "iRBhKfj4lqrz"
      },
      "execution_count": 18,
      "outputs": []
    },
    {
      "cell_type": "code",
      "source": [
        "headers = {\"content-type\": \"application/json\"}"
      ],
      "metadata": {
        "id": "LDxm77e9mClx"
      },
      "execution_count": 19,
      "outputs": []
    },
    {
      "cell_type": "markdown",
      "source": [
        "##### Take the responses from the model"
      ],
      "metadata": {
        "id": "SKXl-dAJueVq"
      }
    },
    {
      "cell_type": "code",
      "source": [
        "json_response = requests.post('http://localhost:8501/v1/models/mnist_model:predict', data=data, headers=headers)\n",
        "predictions = json.loads(json_response.text)['predictions']\n",
        "#print(f\"predictions has shape: {np.asarray(predictions).shape}\")"
      ],
      "metadata": {
        "id": "2XjEI1namHfE"
      },
      "execution_count": 23,
      "outputs": []
    },
    {
      "cell_type": "markdown",
      "source": [
        "##### Check the results"
      ],
      "metadata": {
        "id": "_Md2IhrfwPgy"
      }
    },
    {
      "cell_type": "code",
      "source": [
        "preds = np.argmax(predictions, axis=1)\n",
        "print(f\"preds has shape: {preds.shape}\")"
      ],
      "metadata": {
        "colab": {
          "base_uri": "https://localhost:8080/"
        },
        "id": "znmENYiMbQ1u",
        "outputId": "bb6d5d11-9654-4d06-e4d0-b5f7061d327a"
      },
      "execution_count": 21,
      "outputs": [
        {
          "output_type": "stream",
          "name": "stdout",
          "text": [
            "preds has shape: (10000,)\n"
          ]
        }
      ]
    },
    {
      "cell_type": "code",
      "source": [
        "for i in range(20):\n",
        "  plt.subplot(1,20,i+1)\n",
        "  plt.imshow(x_test[i].reshape(28,28), cmap=plt.cm.binary)\n",
        "  plt.axis('off')\n",
        "  color= 'green' if preds[i]== y_test[i] else 'red'\n",
        "  plt.title('Prediction: {}\\n True Label: {}'.format(preds[i], y_test[i]), color= color)\n",
        "  plt.show()"
      ],
      "metadata": {
        "colab": {
          "base_uri": "https://localhost:8080/",
          "height": 1000
        },
        "id": "75i7rmokbUQ6",
        "outputId": "9f33f447-4cef-4292-bf43-42a2e365fb79"
      },
      "execution_count": 22,
      "outputs": [
        {
          "output_type": "display_data",
          "data": {
            "text/plain": [
              "<Figure size 640x480 with 1 Axes>"
            ],
            "image/png": "[encoded data removed]"
          },
          "metadata": {}
        },
        {
          "output_type": "display_data",
          "data": {
            "text/plain": [
              "<Figure size 640x480 with 1 Axes>"
            ],
            "image/png": "[encoded data removed]"
          },
          "metadata": {}
        },
        {
          "output_type": "display_data",
          "data": {
            "text/plain": [
              "<Figure size 640x480 with 1 Axes>"
            ],
            "image/png": "[encoded data removed]"
          },
          "metadata": {}
        },
        {
          "output_type": "display_data",
          "data": {
            "text/plain": [
              "<Figure size 640x480 with 1 Axes>"
            ],
            "image/png": "[encoded data removed]"
          },
          "metadata": {}
        },
        {
          "output_type": "display_data",
          "data": {
            "text/plain": [
              "<Figure size 640x480 with 1 Axes>"
            ],
            "image/png": "[encoded data removed]"
          },
          "metadata": {}
        },
        {
          "output_type": "display_data",
          "data": {
            "text/plain": [
              "<Figure size 640x480 with 1 Axes>"
            ],
            "image/png": "[encoded data removed]"
          },
          "metadata": {}
        },
        {
          "output_type": "display_data",
          "data": {
            "text/plain": [
              "<Figure size 640x480 with 1 Axes>"
            ],
            "image/png": "[encoded data removed]"
          },
          "metadata": {}
        },
        {
          "output_type": "display_data",
          "data": {
            "text/plain": [
              "<Figure size 640x480 with 1 Axes>"
            ],
            "image/png": "[encoded data removed]"
          },
          "metadata": {}
        },
        {
          "output_type": "display_data",
          "data": {
            "text/plain": [
              "<Figure size 640x480 with 1 Axes>"
            ],
            "image/png": "[encoded data removed]"
          },
          "metadata": {}
        },
        {
          "output_type": "display_data",
          "data": {
            "text/plain": [
              "<Figure size 640x480 with 1 Axes>"
            ],
            "image/png": "[encoded data removed]"
          },
          "metadata": {}
        },
        {
          "output_type": "display_data",
          "data": {
            "text/plain": [
              "<Figure size 640x480 with 1 Axes>"
            ],
            "image/png": "[encoded data removed]"
          },
          "metadata": {}
        },
        {
          "output_type": "display_data",
          "data": {
            "text/plain": [
              "<Figure size 640x480 with 1 Axes>"
            ],
            "image/png": "[encoded data removed]"
          },
          "metadata": {}
        },
        {
          "output_type": "display_data",
          "data": {
            "text/plain": [
              "<Figure size 640x480 with 1 Axes>"
            ],
            "image/png": "[encoded data removed]"
          },
          "metadata": {}
        },
        {
          "output_type": "display_data",
          "data": {
            "text/plain": [
              "<Figure size 640x480 with 1 Axes>"
            ],
            "image/png": "[encoded data removed]"
          },
          "metadata": {}
        },
        {
          "output_type": "display_data",
          "data": {
            "text/plain": [
              "<Figure size 640x480 with 1 Axes>"
            ],
            "image/png": "[encoded data removed]"
          },
          "metadata": {}
        },
        {
          "output_type": "display_data",
          "data": {
            "text/plain": [
              "<Figure size 640x480 with 1 Axes>"
            ],
            "image/png": "[encoded data removed]"
          },
          "metadata": {}
        },
        {
          "output_type": "display_data",
          "data": {
            "text/plain": [
              "<Figure size 640x480 with 1 Axes>"
            ],
            "image/png": "[encoded data removed]"
          },
          "metadata": {}
        },
        {
          "output_type": "display_data",
          "data": {
            "text/plain": [
              "<Figure size 640x480 with 1 Axes>"
            ],
            "image/png": "[encoded data removed]"
          },
          "metadata": {}
        },
        {
          "output_type": "display_data",
          "data": {
            "text/plain": [
              "<Figure size 640x480 with 1 Axes>"
            ],
            "image/png": "[encoded data removed]"
          },
          "metadata": {}
        },
        {
          "output_type": "display_data",
          "data": {
            "text/plain": [
              "<Figure size 640x480 with 1 Axes>"
            ],
            "image/png": "[encoded data removed]"
          },
          "metadata": {}
        }
      ]
    }
  ]
}